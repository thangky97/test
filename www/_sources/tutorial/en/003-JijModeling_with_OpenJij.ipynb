{
 "cells": [
  {
   "cell_type": "markdown",
   "metadata": {},
   "source": [
    "# 3-JijModeling with OpenJij"
   ]
  },
  {
   "cell_type": "markdown",
   "metadata": {
    "colab_type": "text",
    "id": "view-in-github"
   },
   "source": [
    "[![Open in Colab](https://colab.research.google.com/assets/colab-badge.svg)](https://colab.research.google.com/github/OpenJij/OpenJijTutorial/blob/master/source/en/003-PyQUBO_2_OpenJij.ipynb)"
   ]
  },
  {
   "cell_type": "markdown",
   "metadata": {
    "colab_type": "text",
    "id": "view-in-github"
   },
   "source": [
    "In this chapter, first we explain how to write mathmatical model with JijModeling. After that, we explaint how to convert the model to QUBO by using JijModeling Transpiler and run Simulated Annealing with OpenJij.\n",
    "We solve \"Creek Coverage Problem\" as an example.\n",
    "\n",
    "Please check document for more detail explanation about JijModeling and JijModeling Transpiler."
   ]
  },
  {
   "cell_type": "markdown",
   "metadata": {},
   "source": [
    "We can install `jijmodeling` with the following command using `pip`  "
   ]
  },
  {
   "cell_type": "code",
   "execution_count": 1,
   "metadata": {},
   "outputs": [
    {
     "name": "stdout",
     "output_type": "stream",
     "text": [
      "Requirement already satisfied: jijmodeling in /home/hiromichi/.pyenv/versions/3.9.6/lib/python3.9/site-packages (0.10.0)\n",
      "Requirement already satisfied: pydantic<1.10.0 in /home/hiromichi/.pyenv/versions/3.9.6/lib/python3.9/site-packages (from jijmodeling) (1.9.2)\n",
      "Requirement already satisfied: pandas<1.4.2 in /home/hiromichi/.pyenv/versions/3.9.6/lib/python3.9/site-packages (from jijmodeling) (1.4.1)\n",
      "Requirement already satisfied: python-ulid<1.2.0 in /home/hiromichi/.pyenv/versions/3.9.6/lib/python3.9/site-packages (from jijmodeling) (1.1.0)\n",
      "Requirement already satisfied: jij-cimod<1.5.0,>=1.4.1 in /home/hiromichi/.pyenv/versions/3.9.6/lib/python3.9/site-packages (from jijmodeling) (1.4.36)\n",
      "Requirement already satisfied: typeguard<2.14.0 in /home/hiromichi/.pyenv/versions/3.9.6/lib/python3.9/site-packages (from jijmodeling) (2.13.3)\n",
      "Requirement already satisfied: jijmodeling-schema==0.0.17 in /home/hiromichi/.pyenv/versions/3.9.6/lib/python3.9/site-packages (from jijmodeling) (0.0.17)\n",
      "Requirement already satisfied: dimod<0.12.0 in /home/hiromichi/.pyenv/versions/3.9.6/lib/python3.9/site-packages (from jijmodeling) (0.10.17)\n",
      "Requirement already satisfied: openjij<0.6.0,>=0.5.0 in /home/hiromichi/.pyenv/versions/3.9.6/lib/python3.9/site-packages (from jijmodeling) (0.5.33)\n",
      "Requirement already satisfied: numpy<1.24.0 in /home/hiromichi/.pyenv/versions/3.9.6/lib/python3.9/site-packages (from jijmodeling) (1.23.2)\n",
      "Requirement already satisfied: scipy<1.10.0 in /home/hiromichi/.pyenv/versions/3.9.6/lib/python3.9/site-packages (from jijmodeling) (1.9.1)\n",
      "Requirement already satisfied: betterproto[compiler]==1.2.5 in /home/hiromichi/.pyenv/versions/3.9.6/lib/python3.9/site-packages (from jijmodeling-schema==0.0.17->jijmodeling) (1.2.5)\n",
      "Requirement already satisfied: stringcase in /home/hiromichi/.pyenv/versions/3.9.6/lib/python3.9/site-packages (from betterproto[compiler]==1.2.5->jijmodeling-schema==0.0.17->jijmodeling) (1.2.0)\n",
      "Requirement already satisfied: grpclib in /home/hiromichi/.pyenv/versions/3.9.6/lib/python3.9/site-packages (from betterproto[compiler]==1.2.5->jijmodeling-schema==0.0.17->jijmodeling) (0.4.3)\n",
      "Requirement already satisfied: black in /home/hiromichi/.pyenv/versions/3.9.6/lib/python3.9/site-packages (from betterproto[compiler]==1.2.5->jijmodeling-schema==0.0.17->jijmodeling) (22.6.0)\n",
      "Requirement already satisfied: jinja2 in /home/hiromichi/.pyenv/versions/3.9.6/lib/python3.9/site-packages (from betterproto[compiler]==1.2.5->jijmodeling-schema==0.0.17->jijmodeling) (3.1.2)\n",
      "Requirement already satisfied: protobuf in /home/hiromichi/.pyenv/versions/3.9.6/lib/python3.9/site-packages (from betterproto[compiler]==1.2.5->jijmodeling-schema==0.0.17->jijmodeling) (4.21.5)\n",
      "Requirement already satisfied: pyparsing<3.0.0,>=2.4.7 in /home/hiromichi/.pyenv/versions/3.9.6/lib/python3.9/site-packages (from dimod<0.12.0->jijmodeling) (2.4.7)\n",
      "Requirement already satisfied: requests<2.29.0,>=2.28.0 in /home/hiromichi/.pyenv/versions/3.9.6/lib/python3.9/site-packages (from openjij<0.6.0,>=0.5.0->jijmodeling) (2.28.1)\n",
      "Requirement already satisfied: pytz>=2020.1 in /home/hiromichi/.pyenv/versions/3.9.6/lib/python3.9/site-packages (from pandas<1.4.2->jijmodeling) (2022.2.1)\n",
      "Requirement already satisfied: python-dateutil>=2.8.1 in /home/hiromichi/.pyenv/versions/3.9.6/lib/python3.9/site-packages (from pandas<1.4.2->jijmodeling) (2.8.2)\n",
      "Requirement already satisfied: typing-extensions>=3.7.4.3 in /home/hiromichi/.pyenv/versions/3.9.6/lib/python3.9/site-packages (from pydantic<1.10.0->jijmodeling) (4.3.0)\n",
      "Requirement already satisfied: six>=1.5 in /home/hiromichi/.pyenv/versions/3.9.6/lib/python3.9/site-packages (from python-dateutil>=2.8.1->pandas<1.4.2->jijmodeling) (1.16.0)\n",
      "Requirement already satisfied: urllib3<1.27,>=1.21.1 in /home/hiromichi/.pyenv/versions/3.9.6/lib/python3.9/site-packages (from requests<2.29.0,>=2.28.0->openjij<0.6.0,>=0.5.0->jijmodeling) (1.26.12)\n",
      "Requirement already satisfied: idna<4,>=2.5 in /home/hiromichi/.pyenv/versions/3.9.6/lib/python3.9/site-packages (from requests<2.29.0,>=2.28.0->openjij<0.6.0,>=0.5.0->jijmodeling) (3.3)\n",
      "Requirement already satisfied: certifi>=2017.4.17 in /home/hiromichi/.pyenv/versions/3.9.6/lib/python3.9/site-packages (from requests<2.29.0,>=2.28.0->openjij<0.6.0,>=0.5.0->jijmodeling) (2022.6.15)\n",
      "Requirement already satisfied: charset-normalizer<3,>=2 in /home/hiromichi/.pyenv/versions/3.9.6/lib/python3.9/site-packages (from requests<2.29.0,>=2.28.0->openjij<0.6.0,>=0.5.0->jijmodeling) (2.1.1)\n",
      "Requirement already satisfied: click>=8.0.0 in /home/hiromichi/.pyenv/versions/3.9.6/lib/python3.9/site-packages (from black->betterproto[compiler]==1.2.5->jijmodeling-schema==0.0.17->jijmodeling) (8.1.3)\n",
      "Requirement already satisfied: mypy-extensions>=0.4.3 in /home/hiromichi/.pyenv/versions/3.9.6/lib/python3.9/site-packages (from black->betterproto[compiler]==1.2.5->jijmodeling-schema==0.0.17->jijmodeling) (0.4.3)\n",
      "Requirement already satisfied: pathspec>=0.9.0 in /home/hiromichi/.pyenv/versions/3.9.6/lib/python3.9/site-packages (from black->betterproto[compiler]==1.2.5->jijmodeling-schema==0.0.17->jijmodeling) (0.9.0)\n",
      "Requirement already satisfied: platformdirs>=2 in /home/hiromichi/.pyenv/versions/3.9.6/lib/python3.9/site-packages (from black->betterproto[compiler]==1.2.5->jijmodeling-schema==0.0.17->jijmodeling) (2.5.2)\n",
      "Requirement already satisfied: tomli>=1.1.0 in /home/hiromichi/.pyenv/versions/3.9.6/lib/python3.9/site-packages (from black->betterproto[compiler]==1.2.5->jijmodeling-schema==0.0.17->jijmodeling) (2.0.1)\n",
      "Requirement already satisfied: h2<5,>=3.1.0 in /home/hiromichi/.pyenv/versions/3.9.6/lib/python3.9/site-packages (from grpclib->betterproto[compiler]==1.2.5->jijmodeling-schema==0.0.17->jijmodeling) (4.1.0)\n",
      "Requirement already satisfied: multidict in /home/hiromichi/.pyenv/versions/3.9.6/lib/python3.9/site-packages (from grpclib->betterproto[compiler]==1.2.5->jijmodeling-schema==0.0.17->jijmodeling) (6.0.2)\n",
      "Requirement already satisfied: hpack<5,>=4.0 in /home/hiromichi/.pyenv/versions/3.9.6/lib/python3.9/site-packages (from h2<5,>=3.1.0->grpclib->betterproto[compiler]==1.2.5->jijmodeling-schema==0.0.17->jijmodeling) (4.0.0)\n",
      "Requirement already satisfied: hyperframe<7,>=6.0 in /home/hiromichi/.pyenv/versions/3.9.6/lib/python3.9/site-packages (from h2<5,>=3.1.0->grpclib->betterproto[compiler]==1.2.5->jijmodeling-schema==0.0.17->jijmodeling) (6.0.1)\n",
      "Requirement already satisfied: MarkupSafe>=2.0 in /home/hiromichi/.pyenv/versions/3.9.6/lib/python3.9/site-packages (from jinja2->betterproto[compiler]==1.2.5->jijmodeling-schema==0.0.17->jijmodeling) (2.1.1)\n",
      "\u001b[33mWARNING: You are using pip version 21.1.3; however, version 22.2.2 is available.\n",
      "You should consider upgrading via the '/home/hiromichi/.pyenv/versions/3.9.6/bin/python3.9 -m pip install --upgrade pip' command.\u001b[0m\n"
     ]
    }
   ],
   "source": [
    "!pip install jijmodeling"
   ]
  },
  {
   "cell_type": "markdown",
   "metadata": {},
   "source": [
    "## Formulation of QUBO with JijModeling\n",
    "\n",
    "JijModeling is a intuitive modeling library for fomulating mathmatical model and we can convert mathmatical model to QUBO easily. In the previous chapters, we have shown the case without JijModeling, so we had to formulate QUBO, then expand the expressions ourselves and put them into the Python script. However, we can eliminate that hassles with JijModeling.\n",
    "\n",
    "JijModeling is a handy library that can help us reduce the computational and implementation errors in our QUBO and Ising model transformations.\n",
    "\n",
    "Let us solve the Creek Coverage Problem as as example.\n",
    "\n",
    "For more details of this problem, see also [here (T-Wave: creek coverage problem (only Japanese))](https://qard.is.tohoku.ac.jp/T-Wave/?p=434)."
   ]
  },
  {
   "cell_type": "markdown",
   "metadata": {},
   "source": [
    "We introduce the formulation of the creek coverage problem as a mathmatical model.\n",
    "\n",
    "This problem is whethre the graph $G=(V, E)$ can be covered by $n$ creeks.\n",
    "\n",
    "The mathmatical model of this problem is\n",
    "\n",
    "$$H =  \\sum^n_{i=1}\\left[\n",
    "\\frac{1}{2}\\left(-1+\\sum_{v \\in V} x_{v,i}\\right)\\sum_{v \\in V} x_{v, i} \n",
    "- \\sum_{(u, v)\\in E} x_{u,i} x_{v, i}\\right]$$\n",
    "$$\\mathrm{s.t.\\  }\\quad  \\sum^n_{i=1} x_{v, i} = 1\\quad \\mathrm{forall}\\ v$$\n",
    "\n",
    "\n",
    "Here, $x_{v,i}$ is binary variable and if vertex $v$ is colored by $i$th color, then $x_{v,i} = 1$.\n",
    "The first term is Objective function which shows how close the split subgraph is to creek (complete graph)\n",
    "Constraint is that only one color is painted on each vertex.\n",
    "Both term must be zero. However, we treat the first term as a penalty term, and second as a cost(objective function).\n",
    "\n",
    "The QUBO of this model as follows.\n",
    "\n",
    "$$H = A\\sum_v \\left(1-\\sum^n_{i=1} x_{v, i}\\right)^2 \n",
    "+ B \\sum^n_{i=1}\\left[\n",
    "\\frac{1}{2}\\left(-1+\\sum_{v \\in V} x_{v,i}\\right)\\sum_{v \\in V} x_{v, i} \n",
    "- \\sum_{(u, v)\\in E} x_{u,i} x_{v, i}\\right]$$\n",
    "\n",
    "Normally, we have write down QUBO model to use Ising optimization, however, we do not need to do so if you use JijModeling."
   ]
  },
  {
   "cell_type": "markdown",
   "metadata": {},
   "source": [
    "We give the Graph and the number of creek $n$ as follows in this time."
   ]
  },
  {
   "cell_type": "code",
   "execution_count": 68,
   "metadata": {},
   "outputs": [],
   "source": [
    "# set the number of vertex\n",
    "N_VER = 8\n",
    "# set the number of colors\n",
    "N_COLOR = 3\n",
    "# set the graph. define them which vertices are connected to each other\n",
    "edges = [[0,1], [0,2], [1,2], [5,6], [2,3], [2,5], [3,4], [5,7], [7, 6]]"
   ]
  },
  {
   "cell_type": "markdown",
   "metadata": {},
   "source": [
    "### Formulation with JijModeling\n",
    "\n",
    "We import JijModeling."
   ]
  },
  {
   "cell_type": "code",
   "execution_count": 69,
   "metadata": {},
   "outputs": [],
   "source": [
    "import jijmodeling as jm"
   ]
  },
  {
   "cell_type": "markdown",
   "metadata": {},
   "source": [
    "At First, we prepare variables for representing mathmatical model. We set an array of variables using `Array`.\n",
    "In this time, we need the number of (N_VER) x (N_COLOR), therefore we set `shape` argument as follows."
   ]
  },
  {
   "cell_type": "code",
   "execution_count": 70,
   "metadata": {},
   "outputs": [
    {
     "data": {
      "text/latex": [
       "$$\\begin{alignat*}{4}\\text{Problem} & \\text{: creek} \\\\\\min & \\quad \\sum_{ i = 0 }^{ N - 1 } \\left( 0.5 \\cdot \\left( \\sum_{ v = 0 }^{ V - 1 } x_{v,i} - 1 \\right) \\cdot \\sum_{ v = 0 }^{ V - 1 } x_{v,i} - \\sum_{ e \\in E } x_{e_{0},i} \\cdot x_{e_{1},i} \\right) \\\\\\text{s.t.} & \\\\& \\text{onehot} :\\\\ &\\quad \\quad \\sum_{ i = 0 }^{ N - 1 } x_{v,i} = 1,\\ \\forall v \\in \\left\\{ 0 ,\\ldots , V - 1 \\right\\} \\\\[8pt]& x_{i_{0},i_{1}} \\in \\{0, 1\\}\\end{alignat*}$$"
      ],
      "text/plain": [
       "<jijmodeling.problem.problem.Problem at 0x7f1aa25066d0>"
      ]
     },
     "execution_count": 70,
     "metadata": {},
     "output_type": "execute_result"
    }
   ],
   "source": [
    "problem = jm.Problem('creek')\n",
    "\n",
    "N = jm.Placeholder('N')\n",
    "V = jm.Placeholder('V')\n",
    "E = jm.Placeholder('E',dim = 2)\n",
    "x = jm.Binary('x', shape=(V,N))\n",
    "i = jm.Element('i',(0,N))\n",
    "v = jm.Element('v',(0,V))\n",
    "e = jm.Element('e',E)\n",
    "\n",
    "objective = jm.Sum(i, 1/2 * ( -1 + jm.Sum(v,x[v,i]) ) * jm.Sum(v,x[v,i]) - jm.Sum(e,x[e[0],i] * x[e[1],i]))\n",
    "problem += objective\n",
    "constraint = jm.Constraint(\"onehot\",jm.Sum(i,x[v,i]) == 1,forall= v)\n",
    "problem += constraint\n",
    "problem"
   ]
  },
  {
   "cell_type": "markdown",
   "metadata": {},
   "source": [
    "We can write the mathmatical model simple way.\n",
    "\n",
    "Next, we need to prepare the instance data for Placeholder value."
   ]
  },
  {
   "cell_type": "code",
   "execution_count": 71,
   "metadata": {},
   "outputs": [],
   "source": [
    "instance_data = {'N':N_COLOR,'V':N_VER,'E':edges }"
   ]
  },
  {
   "cell_type": "markdown",
   "metadata": {},
   "source": [
    "We finish to prepare the mathmatical model and instance data."
   ]
  },
  {
   "cell_type": "markdown",
   "metadata": {},
   "source": [
    "### Converting mathmatical model to QUBO\n",
    "first we need to import transpiler function to create QUBO from mathmatical model."
   ]
  },
  {
   "cell_type": "code",
   "execution_count": 72,
   "metadata": {},
   "outputs": [],
   "source": [
    "from jijmodeling.transpiler.pyqubo.to_pyqubo import to_pyqubo"
   ]
  },
  {
   "cell_type": "code",
   "execution_count": 73,
   "metadata": {},
   "outputs": [],
   "source": [
    "pyq_obj, pyq_cache = to_pyqubo(problem, instance_data,fixed_variables={})"
   ]
  },
  {
   "cell_type": "markdown",
   "metadata": {},
   "source": [
    "`to_pyqubo()` creates pyqubo object (`pyq_obj`) and the information of the relationship between pyqubo object and mathmatical model is in `pyq_cache`.\n",
    "Plaese see the Documentation of JijModelingTranspiler for more detail information about `to_pyqubo()`."
   ]
  },
  {
   "cell_type": "markdown",
   "metadata": {},
   "source": [
    "We can easily converted to QUBO (Python dictionary type) with `pyq_obj.compile().to_qubo()`.\n",
    "\n",
    "In OpenJij and D-Wave Ocean, QUBO is assumed to be represented by a Python dictionary type.\n",
    "\n",
    "We can run it on each solver by `.compile`."
   ]
  },
  {
   "cell_type": "code",
   "execution_count": 74,
   "metadata": {},
   "outputs": [],
   "source": [
    "# compile this model\n",
    "qubo, offset = pyq_obj.compile().to_qubo(feed_dict = {'onehot':1.0})"
   ]
  },
  {
   "cell_type": "markdown",
   "metadata": {},
   "source": [
    "`qubo` is set to QUBO and `offset` is set to the constant that appears when it is converted to QUBO."
   ]
  },
  {
   "cell_type": "markdown",
   "metadata": {},
   "source": [
    "## Run with OpenJij\n",
    "\n",
    "Let's use OpenJij to solve creek coverage problem.\n",
    "\n",
    "In this tutorial, we only use Simulated Annealing(SA) solver, however we can also run Simulated Quantum Annealing(SQA) as same way as SA."
   ]
  },
  {
   "cell_type": "code",
   "execution_count": 75,
   "metadata": {},
   "outputs": [],
   "source": [
    "# use SA on neal\n",
    "import openjij as oj\n",
    "sampler = oj.SASampler()\n",
    "response = sampler.sample_qubo(qubo)"
   ]
  },
  {
   "cell_type": "markdown",
   "metadata": {},
   "source": [
    "`.first.sample` extracts the lowest energy of all derived solutions."
   ]
  },
  {
   "cell_type": "code",
   "execution_count": 76,
   "metadata": {},
   "outputs": [
    {
     "name": "stdout",
     "output_type": "stream",
     "text": [
      "{'x[]0_0': 0, 'x[]0_1': 0, 'x[]0_2': 1, 'x[]1_0': 0, 'x[]1_1': 0, 'x[]1_2': 1, 'x[]2_0': 0, 'x[]2_1': 0, 'x[]2_2': 1, 'x[]3_0': 1, 'x[]3_1': 0, 'x[]3_2': 0, 'x[]4_0': 1, 'x[]4_1': 0, 'x[]4_2': 0, 'x[]5_0': 0, 'x[]5_1': 1, 'x[]5_2': 0, 'x[]6_0': 0, 'x[]6_1': 1, 'x[]6_2': 0, 'x[]7_0': 0, 'x[]7_1': 1, 'x[]7_2': 0}\n"
     ]
    }
   ],
   "source": [
    "print(response.first.sample)"
   ]
  },
  {
   "cell_type": "markdown",
   "metadata": {},
   "source": [
    "We can use `.decode` method to see the result more pretty."
   ]
  },
  {
   "cell_type": "code",
   "execution_count": 77,
   "metadata": {},
   "outputs": [
    {
     "data": {
      "text/plain": [
       "{'x': [(([3, 4, 5, 6, 7, 0, 1, 2], [0, 0, 1, 1, 1, 2, 2, 2]),\n",
       "   [1, 1, 1, 1, 1, 1, 1, 1],\n",
       "   ())]}"
      ]
     },
     "execution_count": 77,
     "metadata": {},
     "output_type": "execute_result"
    }
   ],
   "source": [
    "result = pyq_cache.decode(response)\n",
    "result.record.solution"
   ]
  },
  {
   "cell_type": "markdown",
   "metadata": {},
   "source": [
    "The solution is in the COO format. It means that the solution array containts only indexed with a value of 1.\n",
    "This format is convinient to see the result becuase normally we only know which value is 1 or not.\n",
    "Let us see the result."
   ]
  },
  {
   "cell_type": "code",
   "execution_count": 80,
   "metadata": {},
   "outputs": [],
   "source": [
    "import networkx as nx\n",
    "import matplotlib.pyplot as plt"
   ]
  },
  {
   "cell_type": "code",
   "execution_count": 81,
   "metadata": {},
   "outputs": [
    {
     "data": {
      "image/png": "[encoded data removed]",
      "text/plain": [
       "<Figure size 640x480 with 1 Axes>"
      ]
     },
     "metadata": {},
     "output_type": "display_data"
    }
   ],
   "source": [
    "# initialize vertex color list\n",
    "node_colors = [-1] * N_VER\n",
    "# set color list for visualization\n",
    "colorlist = ['gold', 'violet', 'limegreen', 'darkorange']\n",
    "# set vertex color list\n",
    "for node_num,class_num in zip(*result.record.solution['x'][0][0]):\n",
    "    node_colors[node_num] = colorlist[class_num]\n",
    "# make figure\n",
    "fig = plt.figure()\n",
    "G = nx.Graph()\n",
    "G.add_nodes_from(range(N_VER))\n",
    "G.add_edges_from(instance_data[\"E\"])\n",
    "nx.draw_networkx(G, node_color=node_colors, with_labels=True)"
   ]
  },
  {
   "cell_type": "markdown",
   "metadata": {},
   "source": [
    "The graph is divided by each creeks.\n",
    "\n",
    "We can check the energy and objective value by using `result.evaluation`"
   ]
  },
  {
   "cell_type": "code",
   "execution_count": 82,
   "metadata": {},
   "outputs": [
    {
     "data": {
      "text/plain": [
       "Evaluation(energy=[-8.0], objective=[0.0], constraint_violations={'onehot': [0.0]}, penalty=[{}])"
      ]
     },
     "execution_count": 82,
     "metadata": {},
     "output_type": "execute_result"
    }
   ],
   "source": [
    "result.evaluation"
   ]
  },
  {
   "cell_type": "markdown",
   "metadata": {},
   "source": [
    "## Conclusion\n",
    "\n",
    "We learned how to formulate it using JijModeling and how it works with OpenJij.\n",
    "\n",
    "Procedures are as follows.\n",
    "\n",
    "1. Write down the mathmatical model by using JijModeling\n",
    "2. Convert mathmatical model to QUBO by using JijModeling Transpiler\n",
    "3. compile QUBO and convert it to a dictionary type\n",
    "4. solve optimization problems using OpenJij's solver such as `SASampler()`\n",
    "5. decode solution by using `decode`.\n",
    "\n",
    "JijModeling is useful and powerful tool for formulationg and JijModeling Transpiler provides easy interface to convert mathmatical model to QUBO. \n",
    "When we use in conjunction with OpenJij, which provides a variety of solvers, it provides comfortable development experience."
   ]
  },
  {
   "cell_type": "markdown",
   "metadata": {},
   "source": []
  }
 ],
 "metadata": {
  "kernelspec": {
   "display_name": "Python 3.9.6 ('.venv': pipenv)",
   "language": "python",
   "name": "python3"
  },
  "language_info": {
   "codemirror_mode": {
    "name": "ipython",
    "version": 3
   },
   "file_extension": ".py",
   "mimetype": "text/x-python",
   "name": "python",
   "nbconvert_exporter": "python",
   "pygments_lexer": "ipython3",
   "version": "3.9.6"
  },
  "vscode": {
   "interpreter": {
    "hash": "2e8d7574d7ec71e14cb1575cf43673432d6fae464c836a7b3733d4f6c20243fb"
   }
  }
 },
 "nbformat": 4,
 "nbformat_minor": 2
}
