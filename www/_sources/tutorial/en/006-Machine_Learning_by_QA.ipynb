{
 "cells": [
  {
   "cell_type": "markdown",
   "metadata": {},
   "source": [
    "# 6-Machine Learning (QBoost) with Quantum Annealing"
   ]
  },
  {
   "cell_type": "markdown",
   "metadata": {
    "colab_type": "text",
    "id": "view-in-github"
   },
   "source": [
    "[![Open in Colab](https://colab.research.google.com/assets/colab-badge.svg)](https://colab.research.google.com/github/OpenJij/OpenJijTutorial/blob/master/source/en/006-Machine_Learning_by_QA.ipynb)"
   ]
  },
  {
   "cell_type": "markdown",
   "metadata": {},
   "source": [
    "In this section, we describe an aplication of machine lerning (ML) with quantum annealing (QA) optimization.\n",
    "\n",
    "In the first, we show app;ication for clustering task using JijModeling and OpenJij.  \n",
    "In the seconde, we execute an ensamble study called QBoost with PyQUBO and D-Wave sampler."
   ]
  },
  {
   "cell_type": "markdown",
   "metadata": {},
   "source": [
    "## Clustering\n",
    "\n",
    "Clustering is the task of deviding given set of data into $n$ clusters ($n$ is our input). For the sake of simplicity, let us consider the number of cluster $n$ is 2 in this time."
   ]
  },
  {
   "cell_type": "markdown",
   "metadata": {},
   "source": [
    "### Clustering Hamiltonian\n",
    "We demonstrate clustering by minimizing the following Hamiltonians.\n",
    "\n",
    "$$\n",
    "H = - \\sum_{i, j} \\frac{1}{2}d_{i,j} (1 - \\sigma _i \\sigma_j)\n",
    "$$"
   ]
  },
  {
   "cell_type": "markdown",
   "metadata": {},
   "source": [
    "Where $i, j$ is sample No., $d_{i, j}$ is a distance between $i$ and $j$, $\\sigma_i=\\{-1,1\\}$ is spin variable that indicates whether $i$ belong to one of the two clusters.\n",
    "\n",
    "Each term of this Hamiltonian sum behaves as follows.\n",
    "\n",
    "- 0 for $\\sigma_i  = \\sigma_j $\n",
    "- $d_{i,j}$ for $\\sigma_i  \\neq \\sigma_j $  \n",
    "\n",
    "Note that minus of R.H.S., Hamiltonian means the problem is \"Choosing pairs of $\\{\\sigma _1, \\sigma _2 \\ldots \\}$ that maximizes the distance between the samples of different classes\"."
   ]
  },
  {
   "cell_type": "markdown",
   "metadata": {},
   "source": [
    "\n",
    "### Importing the required libraries\n",
    "\n",
    "We import several libraries for clustring."
   ]
  },
  {
   "cell_type": "code",
   "execution_count": 1,
   "metadata": {},
   "outputs": [],
   "source": [
    "# import libraries\n",
    "import numpy as np\n",
    "from matplotlib import pyplot as plt\n",
    "import pandas as pd\n",
    "from scipy.spatial import distance_matrix\n",
    "\n",
    "import openjij as oj\n",
    "import jijmodeling as jm\n",
    "from jijmodeling.transpiler.pyqubo.to_pyqubo import to_pyqubo"
   ]
  },
  {
   "cell_type": "markdown",
   "metadata": {},
   "source": [
    "### Clustering with JijModeling and OpenJij\n",
    "\n",
    "At first, we formulate the mathmatical model in JijModeling. We cannot use spin variable in Jijmodeling, so we change spin variable $\\sigma_i$ to binary variable $x_i$ by using the relationship $\\sigma_i = 2x_i - 1$."
   ]
  },
  {
   "cell_type": "code",
   "execution_count": 2,
   "metadata": {},
   "outputs": [
    {
     "data": {
      "text/latex": [
       "$$\\begin{alignat*}{4}\\text{Problem} & \\text{: clustering} \\\\\\min & \\quad \\left( -0.5 \\right) \\cdot \\sum_{ i = 0 }^{ d_{\\mathrm{shape}(0)} - 1 } \\sum_{ j = 0 }^{ d_{\\mathrm{shape}(0)} - 1 } d_{i,j} \\cdot \\left( 1 - \\left( 2 \\cdot x_{i} - 1 \\right) \\cdot \\left( 2 \\cdot x_{j} - 1 \\right) \\right) \\\\& x_{i_{0}} \\in \\{0, 1\\}\\end{alignat*}$$"
      ],
      "text/plain": [
       "<jijmodeling.problem.problem.Problem at 0x7f1c10470820>"
      ]
     },
     "execution_count": 2,
     "metadata": {},
     "output_type": "execute_result"
    }
   ],
   "source": [
    "problem = jm.Problem(\"clustering\")\n",
    "d = jm.Placeholder(\"d\", dim=2)\n",
    "N = d.shape[0]\n",
    "x = jm.Binary(\"x\", shape=(N))\n",
    "i = jm.Element(\"i\", (0, N))\n",
    "j = jm.Element(\"j\", (0, N))\n",
    "problem += (\n",
    "    -1 / 2 * jm.Sum([i, j], d[i, j] * (1 - (2 * x[i] - 1) * (2 * x[j] - 1)))\n",
    ")\n",
    "problem"
   ]
  },
  {
   "cell_type": "markdown",
   "metadata": {},
   "source": [
    "### Make artificial data\n",
    "\n",
    "Next, we create instance data for the clustering problem.\n",
    "\n",
    "In this case, let us generate linearly separable data in a two-dimensional plane artificially. Our clustering algortihm is unsupervised learning algorithm, so we do not need to prepare answer data."
   ]
  },
  {
   "cell_type": "code",
   "execution_count": 3,
   "metadata": {},
   "outputs": [],
   "source": [
    "data = []\n",
    "label = []\n",
    "N = 100\n",
    "for i in range(N):\n",
    "    # generate 0 to 1 random number\n",
    "    p = np.random.uniform(0, 1)\n",
    "    # set class 1 when certain condition are met, and -1 when it are not met\n",
    "    cls = 1 if p > 0.5 else -1\n",
    "    # create random numbers following a normal distribution\n",
    "    data.append(np.random.normal(0, 0.5, 2) + np.array([cls, cls]))\n",
    "    label.append(cls)\n",
    "# formatted as a DataFrame\n",
    "df1 = pd.DataFrame(data, columns=[\"x\", \"y\"], index=range(len(data)))\n",
    "df1[\"label\"] = label"
   ]
  },
  {
   "cell_type": "markdown",
   "metadata": {},
   "source": [
    "Let us see the data of the clustering problem."
   ]
  },
  {
   "cell_type": "code",
   "execution_count": 4,
   "metadata": {},
   "outputs": [
    {
     "data": {
      "image/png": "[encoded data removed]",
      "text/plain": [
       "<Figure size 640x480 with 1 Axes>"
      ]
     },
     "metadata": {},
     "output_type": "display_data"
    }
   ],
   "source": [
    "# visualize dataset\n",
    "df1.plot(kind=\"scatter\", x=\"x\", y=\"y\")\n",
    "plt.show()"
   ]
  },
  {
   "cell_type": "code",
   "execution_count": 5,
   "metadata": {},
   "outputs": [],
   "source": [
    "instance_data = {\"d\": distance_matrix(df1, df1)}"
   ]
  },
  {
   "cell_type": "markdown",
   "metadata": {},
   "source": [
    "### Colsving the clustering problem by using OpenJij\n",
    "We create mathmatical model and instance data, so let us solve the clustering problem by using openjij."
   ]
  },
  {
   "cell_type": "code",
   "execution_count": 6,
   "metadata": {},
   "outputs": [],
   "source": [
    "pyq_obj, pyq_cache = to_pyqubo(problem, instance_data, {})\n",
    "qubo, constant = pyq_obj.compile().to_qubo()\n",
    "sampler = oj.SASampler()\n",
    "response = sampler.sample_qubo(qubo)\n",
    "result = pyq_cache.decode(response)"
   ]
  },
  {
   "cell_type": "code",
   "execution_count": 7,
   "metadata": {},
   "outputs": [
    {
     "data": {
      "image/png": "[encoded data removed]",
      "text/plain": [
       "<Figure size 640x480 with 1 Axes>"
      ]
     },
     "metadata": {},
     "output_type": "display_data"
    }
   ],
   "source": [
    "for idx in range(0, N):\n",
    "    if idx in result.record.solution[\"x\"][0][0][0]:\n",
    "        plt.scatter(df1.loc[idx][\"x\"], df1.loc[idx][\"y\"], color=\"b\")\n",
    "    else:\n",
    "        plt.scatter(df1.loc[idx][\"x\"], df1.loc[idx][\"y\"], color=\"r\")"
   ]
  },
  {
   "cell_type": "markdown",
   "metadata": {},
   "source": [
    "We can see the data is clearly sperated by blue and red class."
   ]
  },
  {
   "cell_type": "markdown",
   "metadata": {},
   "source": [
    "## QBoost\n",
    "\n",
    "QBoost is a one of the ensamble learning using QA. Ensamble learning involves preparing a number of weak predictors and combining the results of each of these predictors to obtain the final prediction result.\n",
    "\n",
    "QBoost uses QA to optimize the best combination of learners for a given training data. We handle classification problem in this time.\n",
    "\n",
    "We define that the set of $D$ training data are $\\{\\vec x^{(d)}\\}(d=1, ..., D)$, corresponding label are $\\{y^{(d)}\\}(d=1, ..., D), y^{(d)}\\in \\{-1, 1\\}$ and the (function) set of $N$ weak learner is $\\{C_i\\}(i=1, ..., N)$. For some data $\\vec x^{(d)}$, $C_i(\\vec x^{(d)})\\in \\{-1, 1\\}$. \n",
    "\n",
    "Based on the definitions above, the classification labels are as follows.\n",
    "\n",
    "$${\\rm sgn}\\left( \\sum_{i=1}^{N} w_i C_i({\\vec x}^{(d)})\\right)$$\n",
    "\n",
    "Where $w_i\\in\\{0, 1\\} (i=1, ..., N)$, is a weight of each predictor (bool value to adopt or not adopt the predictor for the final prediction).QBoost optimizes the combination of $w_i$ so that prediction matches the training data while erasing the number of weak learners.\n",
    "\n",
    "Hamiltonian in this problem is as follows.\n",
    "\n",
    "$$H(\\vec w) = \\sum_{d=1}^{D} \\left( \\frac{1}{N}\\sum_{i=1}^{N} w_i C_i(\\vec x^{(d)})-y^{(d)} \\right)^2 + \\lambda \\sum _i^N w_i$$\n",
    "\n",
    "The first term represents the difference between weak classifier and the correct label. The second term represents a degree of the number of weak classifier to be employed in the final classifier. $\\lambda$ is the regularization parameter that adjust how much the number of weak classifiers affects the total Hamiltonian.\n",
    "\n",
    "We optimize this Hamiltonian by recognizing the first term as a cost (objective function) and the second term as a constraint.Minimizing with QA allows us to obtain a combination of weak classifiers that best fits the training data."
   ]
  },
  {
   "cell_type": "markdown",
   "metadata": {},
   "source": [
    "### Preparation of dataset\n",
    "\n",
    "Let us try QBoost. We use the cancer identification dataset from scikit-learn for training data. For simplicity, we will only use two character types for training: \"0\" and \"1\"."
   ]
  },
  {
   "cell_type": "code",
   "execution_count": 11,
   "metadata": {},
   "outputs": [],
   "source": [
    "# import libraries\n",
    "import pandas as pd\n",
    "from scipy import stats\n",
    "from sklearn import datasets\n",
    "from sklearn import metrics"
   ]
  },
  {
   "cell_type": "code",
   "execution_count": 68,
   "metadata": {},
   "outputs": [],
   "source": [
    "# load data\n",
    "cancerdata = datasets.load_breast_cancer()\n",
    "# set the number of training data & test data\n",
    "num_train = 450"
   ]
  },
  {
   "cell_type": "markdown",
   "metadata": {},
   "source": [
    "In this time, we consider that feature of noise exists."
   ]
  },
  {
   "cell_type": "code",
   "execution_count": 69,
   "metadata": {},
   "outputs": [
    {
     "name": "stdout",
     "output_type": "stream",
     "text": [
      "(569, 60)\n"
     ]
    }
   ],
   "source": [
    "data_noisy = np.concatenate(\n",
    "    (cancerdata.data, np.random.rand(cancerdata.data.shape[0], 30)), axis=1\n",
    ")\n",
    "print(data_noisy.shape)"
   ]
  },
  {
   "cell_type": "code",
   "execution_count": 70,
   "metadata": {},
   "outputs": [],
   "source": [
    "# convert from label {0, 1} to {-1, 1}\n",
    "labels = (cancerdata.target - 0.5) * 2"
   ]
  },
  {
   "cell_type": "code",
   "execution_count": 71,
   "metadata": {},
   "outputs": [],
   "source": [
    "# divide dataset to training and test\n",
    "X_train = data_noisy[:num_train, :]\n",
    "X_test = data_noisy[num_train:, :]\n",
    "y_train = labels[:num_train]\n",
    "y_test = labels[num_train:]"
   ]
  },
  {
   "cell_type": "code",
   "execution_count": 72,
   "metadata": {},
   "outputs": [],
   "source": [
    "# from the result of weak learnor\n",
    "def aggre_mean(Y_list):\n",
    "    return ((np.mean(Y_list, axis=0) > 0) - 0.5) * 2"
   ]
  },
  {
   "cell_type": "markdown",
   "metadata": {},
   "source": [
    "### Creating Set of Weak Learner\n",
    "\n",
    "We make weak learner with scikit-learn. In this time, we choose decision stump. Desision stump is a single-layer decision tree. As it will be used as a weak classifier, the features to be used for segmentation are selected randomly (it's a good understanding that we execute single-layer of random forest)."
   ]
  },
  {
   "cell_type": "code",
   "execution_count": 73,
   "metadata": {},
   "outputs": [],
   "source": [
    "# import required libraries\n",
    "from sklearn.tree import DecisionTreeClassifier as DTC\n",
    "\n",
    "# set the number of weak classifier\n",
    "num_clf = 32\n",
    "# set the number of ensembles to be taken out for one sample in bootstrap sampling\n",
    "sample_train = 40\n",
    "# set model\n",
    "models = [DTC(splitter=\"random\", max_depth=1) for i in range(num_clf)]\n",
    "for model in models:\n",
    "    # extract randomly\n",
    "    train_idx = np.random.choice(np.arange(X_train.shape[0]), sample_train)\n",
    "    # make decision tree with variables\n",
    "    model.fit(X=X_train[train_idx], y=y_train[train_idx])\n",
    "y_pred_list_train = []\n",
    "for model in models:\n",
    "    # execute prediction with model\n",
    "    y_pred_list_train.append(model.predict(X_train))\n",
    "y_pred_list_train = np.asanyarray(y_pred_list_train)\n",
    "y_pred_train = np.sign(y_pred_list_train)"
   ]
  },
  {
   "cell_type": "markdown",
   "metadata": {},
   "source": [
    "We look accuracy of all weak learner as the final classifier. Henceforth, we refer to this combination as baseline."
   ]
  },
  {
   "cell_type": "code",
   "execution_count": 74,
   "metadata": {},
   "outputs": [
    {
     "name": "stdout",
     "output_type": "stream",
     "text": [
      "0.9411764705882353\n"
     ]
    }
   ],
   "source": [
    "y_pred_list_test = []\n",
    "for model in models:\n",
    "    # execute with test data\n",
    "    y_pred_list_test.append(model.predict(X_test))\n",
    "\n",
    "y_pred_list_test = np.array(y_pred_list_test)\n",
    "y_pred_test = np.sign(np.sum(y_pred_list_test, axis=0))\n",
    "# compute score of prediction accuracy\n",
    "acc_test_base = metrics.accuracy_score(y_true=y_test, y_pred=y_pred_test)\n",
    "print(acc_test_base)"
   ]
  },
  {
   "cell_type": "markdown",
   "metadata": {},
   "source": [
    "### Execute QBoost with OpenJij"
   ]
  },
  {
   "cell_type": "markdown",
   "metadata": {},
   "source": [
    "Let us creater QBoost model."
   ]
  },
  {
   "cell_type": "code",
   "execution_count": 84,
   "metadata": {},
   "outputs": [],
   "source": [
    "# set class of QBoost\n",
    "class QBoost:\n",
    "    def __init__(self, y_train, ys_pred):\n",
    "        self.instance_data = {\"y\": y_train, \"C\": ys_pred}\n",
    "        self.qboost_Hamiltonian()\n",
    "        self.pyq_obj, self.pyq_cache = to_pyqubo(\n",
    "            self.problem, self.instance_data, {}\n",
    "        )\n",
    "\n",
    "    def qboost_Hamiltonian(self):\n",
    "        problem = jm.Problem(\"QBoost\")\n",
    "        C = jm.Placeholder(\"C\", dim=2)\n",
    "        y = jm.Placeholder(\"y\", dim=1)\n",
    "        N = C.shape[0].set_latex(\"N\")\n",
    "        D = C.shape[1].set_latex(\"D\")\n",
    "        w = jm.Binary(\"w\", shape=(N))\n",
    "        i = jm.Element(\"i\", (0, N))\n",
    "        d = jm.Element(\"d\", (0, D))\n",
    "        obj = jm.Sum(\n",
    "            d,\n",
    "            (1 / N * jm.Sum(i, w[i] * C[i, d]) - y[d])\n",
    "            * (1 / N * jm.Sum(i, w[i] * C[i, d]) - y[d]),\n",
    "        )\n",
    "        constraint = jm.Constraint(\"constraint\", jm.Sum(i, w[i]))\n",
    "        problem += obj\n",
    "        problem += constraint\n",
    "        self.problem = problem\n",
    "\n",
    "    def sampling(self, qubo, **kwargs):\n",
    "        sampler = oj.SASampler(**kwargs)\n",
    "        response = sampler.sample_qubo(qubo)\n",
    "        return response\n",
    "\n",
    "    def decode(self, response):\n",
    "        return self.pyq_cache.decode(response)\n",
    "\n",
    "    # set function for converting to QUBO\n",
    "    def to_qubo(self, norm_param=1):\n",
    "        # set value of hyperparameter\n",
    "        self.multiplier = {\"constraint\": norm_param}\n",
    "        model = self.pyq_obj.compile()\n",
    "        return model.to_qubo(feed_dict=self.multiplier)"
   ]
  },
  {
   "cell_type": "code",
   "execution_count": 85,
   "metadata": {},
   "outputs": [
    {
     "data": {
      "text/latex": [
       "$$\\begin{alignat*}{4}\\text{Problem} & \\text{: QBoost} \\\\\\min & \\quad \\sum_{ d = 0 }^{ D - 1 } \\left( \\frac{ 1 }{ N } \\cdot \\sum_{ i = 0 }^{ N - 1 } w_{i} \\cdot C_{i,d} - y_{d} \\right) \\cdot \\left( \\frac{ 1 }{ N } \\cdot \\sum_{ i = 0 }^{ N - 1 } w_{i} \\cdot C_{i,d} - y_{d} \\right) \\\\\\text{s.t.} & \\\\& \\text{constraint} :\\\\ &\\quad \\quad \\sum_{ i = 0 }^{ N - 1 } w_{i} = 0,\\\\[8pt]& w_{i_{0}} \\in \\{0, 1\\}\\end{alignat*}$$"
      ],
      "text/plain": [
       "<jijmodeling.problem.problem.Problem at 0x7f2e3d14a7f0>"
      ]
     },
     "execution_count": 85,
     "metadata": {},
     "output_type": "execute_result"
    }
   ],
   "source": [
    "qboost = QBoost(y_train=y_train, ys_pred=y_pred_list_train)\n",
    "qboost.problem"
   ]
  },
  {
   "cell_type": "code",
   "execution_count": 86,
   "metadata": {},
   "outputs": [],
   "source": [
    "# make QUBO with lambda=3\n",
    "qubo = qboost.to_qubo(1)[0]\n",
    "response = qboost.sampling(qubo, num_reads=100, num_sweeps=10)\n",
    "result = qboost.decode(response)"
   ]
  },
  {
   "cell_type": "markdown",
   "metadata": {},
   "source": [
    "Let us check the accuracy in the training/validation data when using a combination of weak classifiers obtained by D-Wave."
   ]
  },
  {
   "cell_type": "code",
   "execution_count": 92,
   "metadata": {},
   "outputs": [],
   "source": [
    "accs_train_Dwaves = []\n",
    "accs_test_Dwaves = []\n",
    "\n",
    "for solution in result.record.solution[\"w\"]:\n",
    "    idx_clf_DWave = solution[0][0]\n",
    "    y_pred_train_DWave = np.sign(\n",
    "        np.sum(y_pred_list_train[idx_clf_DWave, :], axis=0)\n",
    "    )\n",
    "    y_pred_test_DWave = np.sign(\n",
    "        np.sum(y_pred_list_test[idx_clf_DWave, :], axis=0)\n",
    "    )\n",
    "    acc_train_DWave = metrics.accuracy_score(\n",
    "        y_true=y_train, y_pred=y_pred_train_DWave\n",
    "    )\n",
    "    acc_test_DWave = metrics.accuracy_score(\n",
    "        y_true=y_test, y_pred=y_pred_test_DWave\n",
    "    )\n",
    "    accs_train_Dwaves.append(acc_train_DWave)\n",
    "    accs_test_Dwaves.append(acc_test_DWave)"
   ]
  },
  {
   "cell_type": "code",
   "execution_count": 93,
   "metadata": {},
   "outputs": [],
   "source": [
    "energies = result.evaluation.energy"
   ]
  },
  {
   "cell_type": "markdown",
   "metadata": {},
   "source": [
    "We make a graph with energy on the horizontal axis and accuracy on the vertical axis."
   ]
  },
  {
   "cell_type": "code",
   "execution_count": 94,
   "metadata": {},
   "outputs": [
    {
     "data": {
      "image/png": "[encoded data removed]",
      "text/plain": [
       "<Figure size 1200x800 with 1 Axes>"
      ]
     },
     "metadata": {},
     "output_type": "display_data"
    }
   ],
   "source": [
    "plt.figure(figsize=(12, 8))\n",
    "plt.scatter(energies, accs_train_Dwaves, label=\"train\")\n",
    "plt.scatter(energies, accs_test_Dwaves, label=\"test\")\n",
    "plt.xlabel(\"energy\")\n",
    "plt.ylabel(\"accuracy\")\n",
    "plt.title(\"relationship between energy and accuracy\")\n",
    "plt.grid()\n",
    "plt.legend()\n",
    "plt.show()"
   ]
  },
  {
   "cell_type": "code",
   "execution_count": 95,
   "metadata": {},
   "outputs": [
    {
     "name": "stdout",
     "output_type": "stream",
     "text": [
      "base accuracy is 0.9411764705882353\n",
      "max accuracy of QBoost is 0.9495798319327731\n",
      "average accuracy of QBoost is 0.9284033613445378\n"
     ]
    }
   ],
   "source": [
    "print(\"base accuracy is {}\".format(acc_test_base))\n",
    "print(\"max accuracy of QBoost is {}\".format(max(accs_test_Dwaves)))\n",
    "print(\n",
    "    \"average accuracy of QBoost is {}\".format(\n",
    "        np.mean(np.asarray(accs_test_Dwaves))\n",
    "    )\n",
    ")"
   ]
  },
  {
   "cell_type": "code",
   "execution_count": null,
   "metadata": {},
   "outputs": [],
   "source": []
  }
 ],
 "metadata": {
  "kernelspec": {
   "display_name": "Python 3.9.6 ('.venv': pipenv)",
   "language": "python",
   "name": "python3"
  },
  "language_info": {
   "codemirror_mode": {
    "name": "ipython",
    "version": 3
   },
   "file_extension": ".py",
   "mimetype": "text/x-python",
   "name": "python",
   "nbconvert_exporter": "python",
   "pygments_lexer": "ipython3",
   "version": "3.9.6"
  },
  "vscode": {
   "interpreter": {
    "hash": "2e8d7574d7ec71e14cb1575cf43673432d6fae464c836a7b3733d4f6c20243fb"
   }
  }
 },
 "nbformat": 4,
 "nbformat_minor": 2
}
